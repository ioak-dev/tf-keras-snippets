{
 "cells": [
  {
   "cell_type": "code",
   "execution_count": 1,
   "metadata": {},
   "outputs": [],
   "source": [
    "from sklearn.datasets import fetch_california_housing\n",
    "from sklearn.model_selection import train_test_split\n",
    "from sklearn.preprocessing import StandardScaler\n",
    "from tensorflow import keras\n",
    "import os"
   ]
  },
  {
   "cell_type": "markdown",
   "metadata": {},
   "source": [
    "### Tensorboard\n",
    "#### Create a log dir and a log file for the current running instance\n",
    "#### Tensorboard callback for visualization"
   ]
  },
  {
   "cell_type": "code",
   "execution_count": 2,
   "metadata": {},
   "outputs": [],
   "source": [
    "root_logdir = os.path.join(os.curdir, \"my_logs\")\n",
    "\n",
    "def get_run_logdir():\n",
    "    import time\n",
    "    run_id = time.strftime(\"california_housing__mlp_%Y_%m_%d-%H_%M_%S\")\n",
    "    return os.path.join(root_logdir, run_id)\n",
    "\n",
    "# Do it dynamically while fitting\n",
    "# run_logdir = get_run_logdir()\n",
    "# tensorboard_cb = keras.callbacks.TensorBoard(run_logdir)"
   ]
  },
  {
   "cell_type": "code",
   "execution_count": 3,
   "metadata": {},
   "outputs": [],
   "source": [
    "housing = fetch_california_housing()\n",
    "X_train, X_test, y_train, y_test = train_test_split(housing.data, housing.target)"
   ]
  },
  {
   "cell_type": "code",
   "execution_count": 4,
   "metadata": {},
   "outputs": [],
   "source": [
    "scaler = StandardScaler()\n",
    "X_train = scaler.fit_transform(X_train)\n",
    "X_test = scaler.transform(X_test)"
   ]
  },
  {
   "cell_type": "code",
   "execution_count": 5,
   "metadata": {},
   "outputs": [],
   "source": [
    "model = keras.models.Sequential([\n",
    " keras.layers.Dense(30, activation=\"relu\", input_shape=X_train.shape[1:]),\n",
    "    keras.layers.Dense(1)\n",
    "])\n",
    "model.compile(loss=\"mean_squared_error\", optimizer=\"sgd\")"
   ]
  },
  {
   "cell_type": "code",
   "execution_count": 6,
   "metadata": {},
   "outputs": [
    {
     "name": "stdout",
     "output_type": "stream",
     "text": [
      "Train on 12384 samples, validate on 3096 samples\n",
      "Epoch 1/20\n",
      "12384/12384 [==============================] - 0s 40us/sample - loss: 2.0042 - val_loss: 1.0784\n",
      "Epoch 2/20\n",
      "12384/12384 [==============================] - 0s 25us/sample - loss: 0.7960 - val_loss: 0.7282\n",
      "Epoch 3/20\n",
      "12384/12384 [==============================] - 0s 24us/sample - loss: 0.7038 - val_loss: 0.6459\n",
      "Epoch 4/20\n",
      "12384/12384 [==============================] - 0s 23us/sample - loss: 0.6646 - val_loss: 0.6128\n",
      "Epoch 5/20\n",
      "12384/12384 [==============================] - 0s 23us/sample - loss: 0.6342 - val_loss: 0.5915\n",
      "Epoch 6/20\n",
      "12384/12384 [==============================] - 0s 24us/sample - loss: 0.6093 - val_loss: 0.5707\n",
      "Epoch 7/20\n",
      "12384/12384 [==============================] - 0s 23us/sample - loss: 0.5865 - val_loss: 0.5544\n",
      "Epoch 8/20\n",
      "12384/12384 [==============================] - 0s 24us/sample - loss: 0.5664 - val_loss: 0.5394\n",
      "Epoch 9/20\n",
      "12384/12384 [==============================] - 0s 25us/sample - loss: 0.5488 - val_loss: 0.5265\n",
      "Epoch 10/20\n",
      "12384/12384 [==============================] - 0s 24us/sample - loss: 0.5332 - val_loss: 0.5171\n",
      "Epoch 11/20\n",
      "12384/12384 [==============================] - 0s 25us/sample - loss: 0.5201 - val_loss: 0.5089\n",
      "Epoch 12/20\n",
      "12384/12384 [==============================] - 0s 25us/sample - loss: 0.5086 - val_loss: 0.5016\n",
      "Epoch 13/20\n",
      "12384/12384 [==============================] - 0s 26us/sample - loss: 0.4984 - val_loss: 0.4954\n",
      "Epoch 14/20\n",
      "12384/12384 [==============================] - 0s 27us/sample - loss: 0.4896 - val_loss: 0.4897\n",
      "Epoch 15/20\n",
      "12384/12384 [==============================] - 0s 26us/sample - loss: 0.4820 - val_loss: 0.4840\n",
      "Epoch 16/20\n",
      "12384/12384 [==============================] - 0s 33us/sample - loss: 0.4752 - val_loss: 0.4808\n",
      "Epoch 17/20\n",
      "12384/12384 [==============================] - 0s 29us/sample - loss: 0.4692 - val_loss: 0.4781\n",
      "Epoch 18/20\n",
      "12384/12384 [==============================] - 0s 28us/sample - loss: 0.4641 - val_loss: 0.4726\n",
      "Epoch 19/20\n",
      "12384/12384 [==============================] - 0s 29us/sample - loss: 0.4592 - val_loss: 0.4697\n",
      "Epoch 20/20\n",
      "12384/12384 [==============================] - 0s 24us/sample - loss: 0.4548 - val_loss: 0.4660\n"
     ]
    }
   ],
   "source": [
    "history = model.fit(X_train, y_train, epochs=20, validation_split=0.2, callbacks=[keras.callbacks.TensorBoard(get_run_logdir())])"
   ]
  },
  {
   "cell_type": "code",
   "execution_count": 7,
   "metadata": {},
   "outputs": [
    {
     "name": "stdout",
     "output_type": "stream",
     "text": [
      "5160/5160 [==============================] - 0s 14us/sample - loss: 0.4809\n"
     ]
    }
   ],
   "source": [
    "mse_test = model.evaluate(X_test, y_test)"
   ]
  },
  {
   "cell_type": "code",
   "execution_count": 8,
   "metadata": {},
   "outputs": [
    {
     "name": "stdout",
     "output_type": "stream",
     "text": [
      "[4.273 2.146 0.669] [[2.9310532]\n",
      " [2.0675583]\n",
      " [1.1197815]]\n"
     ]
    }
   ],
   "source": [
    "X_new = X_test[:3] #pretend these are new instances to do some testing\n",
    "y_pred = model.predict(X_new)\n",
    "print(y_test[:3], y_pred)"
   ]
  },
  {
   "cell_type": "code",
   "execution_count": null,
   "metadata": {},
   "outputs": [],
   "source": []
  }
 ],
 "metadata": {
  "kernelspec": {
   "display_name": "Python 3 (ipykernel)",
   "language": "python",
   "name": "python3"
  },
  "language_info": {
   "codemirror_mode": {
    "name": "ipython",
    "version": 3
   },
   "file_extension": ".py",
   "mimetype": "text/x-python",
   "name": "python",
   "nbconvert_exporter": "python",
   "pygments_lexer": "ipython3",
   "version": "3.11.3"
  }
 },
 "nbformat": 4,
 "nbformat_minor": 4
}
