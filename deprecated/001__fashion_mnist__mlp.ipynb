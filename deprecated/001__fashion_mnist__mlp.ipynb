{
 "cells": [
  {
   "cell_type": "markdown",
   "metadata": {},
   "source": [
    "# Fashion MNIST"
   ]
  },
  {
   "cell_type": "code",
   "execution_count": 1,
   "metadata": {},
   "outputs": [],
   "source": [
    "import pandas as pd\n",
    "from tensorflow import keras\n",
    "import matplotlib.pyplot as plt\n",
    "import os"
   ]
  },
  {
   "cell_type": "markdown",
   "metadata": {},
   "source": [
    "### Tensorboard\n",
    "#### Create a log dir and a log file for the current running instance\n",
    "#### Tensorboard callback for visualization"
   ]
  },
  {
   "cell_type": "code",
   "execution_count": 2,
   "metadata": {},
   "outputs": [],
   "source": [
    "root_logdir = os.path.join(os.curdir, \"my_logs\")\n",
    "\n",
    "def get_run_logdir():\n",
    "    import time\n",
    "    run_id = time.strftime(\"fashion_mnist__mlp_%Y_%m_%d-%H_%M_%S\")\n",
    "    return os.path.join(root_logdir, run_id)\n",
    "\n",
    "# Do it dynamically while fitting\n",
    "# run_logdir = get_run_logdir()\n",
    "# tensorboard_cb = keras.callbacks.TensorBoard(run_logdir)"
   ]
  },
  {
   "cell_type": "code",
   "execution_count": 3,
   "metadata": {},
   "outputs": [],
   "source": [
    "fashion_mnist = keras.datasets.fashion_mnist\n",
    "(X_train, y_train), (X_test, y_test) = fashion_mnist.load_data()"
   ]
  },
  {
   "cell_type": "code",
   "execution_count": 4,
   "metadata": {},
   "outputs": [
    {
     "data": {
      "text/plain": [
       "((60000, 28, 28), dtype('uint8'))"
      ]
     },
     "execution_count": 4,
     "metadata": {},
     "output_type": "execute_result"
    }
   ],
   "source": [
    "X_train.shape, X_train.dtype"
   ]
  },
  {
   "cell_type": "code",
   "execution_count": 5,
   "metadata": {},
   "outputs": [],
   "source": [
    "X_train = X_train / 255.0"
   ]
  },
  {
   "cell_type": "markdown",
   "metadata": {},
   "source": [
    "For fashion MNIST, we need the list of class names to know the mapping between number back to class names"
   ]
  },
  {
   "cell_type": "code",
   "execution_count": 6,
   "metadata": {},
   "outputs": [],
   "source": [
    "class_names = [\"T-shirt/top\", \"Trouser\", \"Pullover\", \"Dress\", \"Coat\", \"Sandal\", \"Shirt\", \"Sneaker\", \"Bag\", \"Ankle boot\"]"
   ]
  },
  {
   "cell_type": "markdown",
   "metadata": {},
   "source": [
    "Classification MLP. Neural network model with two hidden layers"
   ]
  },
  {
   "cell_type": "code",
   "execution_count": 7,
   "metadata": {},
   "outputs": [
    {
     "name": "stdout",
     "output_type": "stream",
     "text": [
      "Model: \"sequential\"\n",
      "_________________________________________________________________\n",
      "Layer (type)                 Output Shape              Param #   \n",
      "=================================================================\n",
      "flatten (Flatten)            (None, 784)               0         \n",
      "_________________________________________________________________\n",
      "dense (Dense)                (None, 300)               235500    \n",
      "_________________________________________________________________\n",
      "dense_1 (Dense)              (None, 100)               30100     \n",
      "_________________________________________________________________\n",
      "dense_2 (Dense)              (None, 10)                1010      \n",
      "=================================================================\n",
      "Total params: 266,610\n",
      "Trainable params: 266,610\n",
      "Non-trainable params: 0\n",
      "_________________________________________________________________\n"
     ]
    }
   ],
   "source": [
    "# inputs= keras.layers.Input(shape=(28,28))\n",
    "# layers = keras.layers.Flatten()\n",
    "# layers = keras.layers.Dense(300, activation=\"relu\")(layers)\n",
    "# layers = keras.layers.Dense(100, activation=\"relu\")(layers)\n",
    "# layers = keras.layers.Dense(10, activation=\"softmax\")(layers)\n",
    "# model = keras.Model(inputs=inputs, outputs=layers)\n",
    "\n",
    "model = keras.models.Sequential([\n",
    "    keras.layers.Flatten(input_shape=(28,28)),\n",
    "    keras.layers.Dense(300, activation=\"relu\"),\n",
    "    keras.layers.Dense(100, activation=\"relu\"),\n",
    "    keras.layers.Dense(10, activation=\"softmax\")\n",
    "])\n",
    "model.summary()"
   ]
  },
  {
   "cell_type": "code",
   "execution_count": 8,
   "metadata": {},
   "outputs": [],
   "source": [
    "model.compile(loss=\"sparse_categorical_crossentropy\", optimizer=\"sgd\", metrics=[\"accuracy\"])"
   ]
  },
  {
   "cell_type": "code",
   "execution_count": 9,
   "metadata": {},
   "outputs": [
    {
     "name": "stdout",
     "output_type": "stream",
     "text": [
      "Train on 48000 samples, validate on 12000 samples\n",
      "Epoch 1/30\n",
      "48000/48000 [==============================] - 3s 61us/sample - loss: 1.4430 - accuracy: 0.5904 - val_loss: 1.0006 - val_accuracy: 0.6876\n",
      "Epoch 2/30\n",
      "48000/48000 [==============================] - 3s 53us/sample - loss: 0.8769 - accuracy: 0.7145 - val_loss: 0.7802 - val_accuracy: 0.7393\n",
      "Epoch 3/30\n",
      "48000/48000 [==============================] - 2s 52us/sample - loss: 0.7395 - accuracy: 0.7546 - val_loss: 0.6950 - val_accuracy: 0.7621\n",
      "Epoch 4/30\n",
      "48000/48000 [==============================] - 2s 52us/sample - loss: 0.6707 - accuracy: 0.7768 - val_loss: 0.6438 - val_accuracy: 0.7818\n",
      "Epoch 5/30\n",
      "48000/48000 [==============================] - 2s 52us/sample - loss: 0.6257 - accuracy: 0.7911 - val_loss: 0.6060 - val_accuracy: 0.7949\n",
      "Epoch 6/30\n",
      "48000/48000 [==============================] - 2s 52us/sample - loss: 0.5928 - accuracy: 0.8016 - val_loss: 0.5797 - val_accuracy: 0.8018\n",
      "Epoch 7/30\n",
      "48000/48000 [==============================] - 3s 53us/sample - loss: 0.5675 - accuracy: 0.8094 - val_loss: 0.5589 - val_accuracy: 0.8086\n",
      "Epoch 8/30\n",
      "48000/48000 [==============================] - 3s 54us/sample - loss: 0.5476 - accuracy: 0.8162 - val_loss: 0.5428 - val_accuracy: 0.8135\n",
      "Epoch 9/30\n",
      "48000/48000 [==============================] - 3s 53us/sample - loss: 0.5311 - accuracy: 0.8218 - val_loss: 0.5288 - val_accuracy: 0.8183\n",
      "Epoch 10/30\n",
      "48000/48000 [==============================] - 2s 52us/sample - loss: 0.5174 - accuracy: 0.8263 - val_loss: 0.5152 - val_accuracy: 0.8216\n",
      "Epoch 11/30\n",
      "48000/48000 [==============================] - 3s 53us/sample - loss: 0.5054 - accuracy: 0.8299 - val_loss: 0.5056 - val_accuracy: 0.8241\n",
      "Epoch 12/30\n",
      "48000/48000 [==============================] - 2s 51us/sample - loss: 0.4954 - accuracy: 0.8320 - val_loss: 0.4965 - val_accuracy: 0.8273\n",
      "Epoch 13/30\n",
      "48000/48000 [==============================] - 2s 52us/sample - loss: 0.4865 - accuracy: 0.8355 - val_loss: 0.4892 - val_accuracy: 0.8293\n",
      "Epoch 14/30\n",
      "48000/48000 [==============================] - 2s 52us/sample - loss: 0.4781 - accuracy: 0.8371 - val_loss: 0.4837 - val_accuracy: 0.8286\n",
      "Epoch 15/30\n",
      "48000/48000 [==============================] - 3s 52us/sample - loss: 0.4712 - accuracy: 0.8380 - val_loss: 0.4766 - val_accuracy: 0.8322\n",
      "Epoch 16/30\n",
      "48000/48000 [==============================] - 3s 56us/sample - loss: 0.4646 - accuracy: 0.8416 - val_loss: 0.4695 - val_accuracy: 0.8357\n",
      "Epoch 17/30\n",
      "48000/48000 [==============================] - 3s 55us/sample - loss: 0.4586 - accuracy: 0.8432 - val_loss: 0.4656 - val_accuracy: 0.8353\n",
      "Epoch 18/30\n",
      "48000/48000 [==============================] - 3s 57us/sample - loss: 0.4531 - accuracy: 0.8447 - val_loss: 0.4612 - val_accuracy: 0.8393\n",
      "Epoch 19/30\n",
      "48000/48000 [==============================] - 3s 57us/sample - loss: 0.4482 - accuracy: 0.8469 - val_loss: 0.4566 - val_accuracy: 0.8405\n",
      "Epoch 20/30\n",
      "48000/48000 [==============================] - 3s 62us/sample - loss: 0.4439 - accuracy: 0.8473 - val_loss: 0.4514 - val_accuracy: 0.8413\n",
      "Epoch 21/30\n",
      "48000/48000 [==============================] - 3s 56us/sample - loss: 0.4392 - accuracy: 0.8488 - val_loss: 0.4518 - val_accuracy: 0.8413\n",
      "Epoch 22/30\n",
      "48000/48000 [==============================] - 3s 60us/sample - loss: 0.4352 - accuracy: 0.8501 - val_loss: 0.4452 - val_accuracy: 0.8422\n",
      "Epoch 23/30\n",
      "48000/48000 [==============================] - 3s 58us/sample - loss: 0.4314 - accuracy: 0.8511 - val_loss: 0.4410 - val_accuracy: 0.8435\n",
      "Epoch 24/30\n",
      "48000/48000 [==============================] - 3s 58us/sample - loss: 0.4276 - accuracy: 0.8527 - val_loss: 0.4428 - val_accuracy: 0.8453\n",
      "Epoch 25/30\n",
      "48000/48000 [==============================] - 3s 59us/sample - loss: 0.4244 - accuracy: 0.8540 - val_loss: 0.4363 - val_accuracy: 0.8462\n",
      "Epoch 26/30\n",
      "48000/48000 [==============================] - 3s 56us/sample - loss: 0.4213 - accuracy: 0.8545 - val_loss: 0.4337 - val_accuracy: 0.8461\n",
      "Epoch 27/30\n",
      "48000/48000 [==============================] - 3s 54us/sample - loss: 0.4182 - accuracy: 0.8556 - val_loss: 0.4302 - val_accuracy: 0.8488\n",
      "Epoch 28/30\n",
      "48000/48000 [==============================] - 3s 54us/sample - loss: 0.4155 - accuracy: 0.8570 - val_loss: 0.4271 - val_accuracy: 0.8493\n",
      "Epoch 29/30\n",
      "48000/48000 [==============================] - 3s 55us/sample - loss: 0.4126 - accuracy: 0.8581 - val_loss: 0.4268 - val_accuracy: 0.8503\n",
      "Epoch 30/30\n",
      "48000/48000 [==============================] - 3s 54us/sample - loss: 0.4097 - accuracy: 0.8584 - val_loss: 0.4243 - val_accuracy: 0.8492\n"
     ]
    }
   ],
   "source": [
    "history = model.fit(X_train, y_train, epochs=30, validation_split=0.2, callbacks=[keras.callbacks.TensorBoard(get_run_logdir())])"
   ]
  },
  {
   "cell_type": "code",
   "execution_count": 10,
   "metadata": {},
   "outputs": [
    {
     "data": {
      "image/png": "[encoded data removed]",
      "text/plain": [
       "<Figure size 576x360 with 1 Axes>"
      ]
     },
     "metadata": {
      "needs_background": "light"
     },
     "output_type": "display_data"
    }
   ],
   "source": [
    "pd.DataFrame(history.history).plot(figsize=(8,5))\n",
    "plt.grid(True)\n",
    "plt.gca().set_ylim(0, 1) # set the vertical range to [0-1]\n",
    "plt.show()"
   ]
  },
  {
   "cell_type": "code",
   "execution_count": null,
   "metadata": {},
   "outputs": [],
   "source": []
  }
 ],
 "metadata": {
  "kernelspec": {
   "display_name": "Python 3 (ipykernel)",
   "language": "python",
   "name": "python3"
  },
  "language_info": {
   "codemirror_mode": {
    "name": "ipython",
    "version": 3
   },
   "file_extension": ".py",
   "mimetype": "text/x-python",
   "name": "python",
   "nbconvert_exporter": "python",
   "pygments_lexer": "ipython3",
   "version": "3.11.3"
  }
 },
 "nbformat": 4,
 "nbformat_minor": 4
}
