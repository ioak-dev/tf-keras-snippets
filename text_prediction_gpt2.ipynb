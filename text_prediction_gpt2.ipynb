{
 "cells": [
  {
   "cell_type": "code",
   "execution_count": 6,
   "id": "d2010b3f",
   "metadata": {},
   "outputs": [
    {
     "name": "stdout",
     "output_type": "stream",
     "text": [
      "social security.\n",
      "\n",
      "Mr. Turetsky, a former deputy director of the U.S. Department of State's Office for International Cooperation and Security, said the decision to withdraw the sanctions was based on the need to make sure the \"state's interest was served,\" and not on the need to get rid of ISIS.\n",
      "\n",
      "\"The U.S. is a very serious state sponsor of terrorism. The United States is a very serious state sponsor of terrorism,\" he said. \"It\n",
      "social security,\" says a senior defense official. \"To see that what's in the bill could go through the Senate is quite staggering. … There's still a lot of time before we see the bill even appear in the Senate.\"\n",
      "\n",
      "There's no denying that, according to the Congressional Budget Office, the bill would raise the deficit for the next decade by $8.8 trillion. But what actually happened, the official says, is that the Senate made a mistake.\n",
      "\n",
      "\"In terms\n",
      "social security and justice\"\n",
      "\n",
      "After a decade of relentless opposition, a new government has been formed in November to usher in a new era for democracy in the country.\n",
      "\n",
      "The new government has been led by the former prime minister, Tapan Mahajan. It is based on a coalition led by the Bharatiya Janata Party, the BJP, the National Democratic Alliance and the Rashtriya Swayamsevak Sangh, as well as its former prime minister, Dev\n",
      "social security\" and called the \"unfortunate\" decision to withhold money from their families \"totally unacceptable.\"\n",
      "\n",
      "A spokesman for the Department of Homeland Security said: \"As the Department of Homeland Security works to provide additional security, we have taken further steps to ensure that all federal employees are afforded the highest level of protections, including the same protections that are afforded to all state and local law enforcement officers. We will continue to continue to work with the federal government to ensure that our employees are\n",
      "social security.\n",
      "\n",
      "\"The fact that the UK's current system does not work has led to a system which is failing to meet our needs,\" he said.\n",
      "\n",
      "\"It is clear that we need the nationalised sector of our economy more than ever before.\"\n",
      "\n",
      "The UK's plan would see the \"new nationalisation\" of trade with the EU scrapped within a year.\n",
      "\n",
      "The government is also proposing to change the way in which the new system would work.\n",
      "\n",
      "The\n"
     ]
    }
   ],
   "source": [
    "import torch\n",
    "from transformers import GPT2LMHeadModel, GPT2Tokenizer\n",
    "\n",
    "model_name = \"gpt2\"\n",
    "model = GPT2LMHeadModel.from_pretrained(model_name)\n",
    "tokenizer = GPT2Tokenizer.from_pretrained(model_name)\n",
    "\n",
    "sequence = \"Virat Kohli is the best batsman of the decade\"\n",
    "\n",
    "inputs = tokenizer.encode(sequence, return_tensors='pt')\n",
    "\n",
    "outputs = model.generate(inputs, max_length=800, do_sample=True, temperature=1, top_k=50)\n",
    "\n",
    "text = tokenizer.decode(outputs[0], skip_special_tokens=True)\n",
    "\n",
    "sentences = text.split('. ')\n",
    "\n",
    "if len(sentences) > 1:\n",
    "    text_without_last_sentence = '. '.join(sentences[:-1]) + '.'\n",
    "else:\n",
    "    text_without_last_sentence = text\n",
    "print(text_without_last_sentence)"
   ]
  },
  {
   "cell_type": "code",
   "execution_count": null,
   "id": "0293b391",
   "metadata": {},
   "outputs": [],
   "source": []
  }
 ],
 "metadata": {
  "kernelspec": {
   "display_name": "Python 3 (ipykernel)",
   "language": "python",
   "name": "python3"
  },
  "language_info": {
   "codemirror_mode": {
    "name": "ipython",
    "version": 3
   },
   "file_extension": ".py",
   "mimetype": "text/x-python",
   "name": "python",
   "nbconvert_exporter": "python",
   "pygments_lexer": "ipython3",
   "version": "3.7.16"
  }
 },
 "nbformat": 4,
 "nbformat_minor": 5
}